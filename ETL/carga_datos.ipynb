{
 "cells": [
  {
   "cell_type": "code",
   "execution_count": 5,
   "id": "118e078e",
   "metadata": {},
   "outputs": [
    {
     "name": "stdout",
     "output_type": "stream",
     "text": [
      "Cargando datos de la hoja 'Clientes' en la tabla 'clientes'...\n",
      "Cargando datos de la hoja 'Productos' en la tabla 'productos'...\n",
      "Cargando datos de la hoja 'Ventas' en la tabla 'ventas'...\n",
      "Cargando datos de la hoja 'DetalleVentas' en la tabla 'detalle_ventas'...\n",
      "✅ ¡Todos los datos fueron cargados correctamente!\n"
     ]
    }
   ],
   "source": [
    "import pandas as pd\n",
    "import pyodbc\n",
    "\n",
    "# Ruta al archivo Excel\n",
    "archivo_excel = r\"C:\\Users\\franb\\Downloads\\proyectos_data\\reporte de ventas_casa de repuestos\\dataset_repuestos_ampliado.xlsx\"\n",
    "\n",
    "# Hojas que querés cargar (deben coincidir con los nombres de las tablas)\n",
    "hojas_y_tablas = {\n",
    "    \"Clientes\": \"clientes\",\n",
    "    \"Productos\": \"productos\",\n",
    "    \"Ventas\": \"ventas\",\n",
    "    \"DetalleVentas\": \"detalle_ventas\"\n",
    "}\n",
    "\n",
    "# Conexión a SQL Server\n",
    "conn = pyodbc.connect(\n",
    "    \"DRIVER={SQL Server};SERVER=localhost;DATABASE=AutopartesDB;Trusted_Connection=yes\"\n",
    ")\n",
    "cursor = conn.cursor()\n",
    "\n",
    "# Recorrer cada hoja y cargar datos\n",
    "for hoja, tabla in hojas_y_tablas.items():\n",
    "    print(f\"Cargando datos de la hoja '{hoja}' en la tabla '{tabla}'...\")\n",
    "    \n",
    "    # Leer hoja del Excel\n",
    "    df = pd.read_excel(archivo_excel, sheet_name=hoja)\n",
    "\n",
    "    # Recorremos el dataframe e insertamos fila por fila\n",
    "    for _, row in df.iterrows():\n",
    "        # Construir dinámicamente el INSERT según columnas\n",
    "        columnas = ', '.join(df.columns)\n",
    "        valores = ', '.join(['?'] * len(df.columns))\n",
    "        sql = f\"INSERT INTO {tabla} ({columnas}) VALUES ({valores})\"\n",
    "\n",
    "        # Ejecutar con los valores de la fila\n",
    "        cursor.execute(sql, *row)\n",
    "\n",
    "conn.commit()\n",
    "cursor.close()\n",
    "conn.close()\n",
    "\n",
    "print(\"✅ ¡Todos los datos fueron cargados correctamente!\")\n"
   ]
  }
 ],
 "metadata": {
  "kernelspec": {
   "display_name": "Python 3",
   "language": "python",
   "name": "python3"
  },
  "language_info": {
   "codemirror_mode": {
    "name": "ipython",
    "version": 3
   },
   "file_extension": ".py",
   "mimetype": "text/x-python",
   "name": "python",
   "nbconvert_exporter": "python",
   "pygments_lexer": "ipython3",
   "version": "3.12.4"
  }
 },
 "nbformat": 4,
 "nbformat_minor": 5
}
